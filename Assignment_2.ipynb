{
 "cells": [
  {
   "cell_type": "markdown",
   "metadata": {},
   "source": [
    "# 1. What are the Boolean data type's two values? How do you go about writing them?"
   ]
  },
  {
   "cell_type": "markdown",
   "metadata": {},
   "source": [
    "# solution - \n",
    "        There are only two Boolean types they are as follows:\n",
    "        1) True - 1\n",
    "        2) False - 0\n",
    "        True indicates 1 and False indicates 0"
   ]
  },
  {
   "cell_type": "markdown",
   "metadata": {},
   "source": [
    "\n",
    "# 2. What are the three different types of Boolean operators?\n"
   ]
  },
  {
   "cell_type": "markdown",
   "metadata": {},
   "source": [
    "# solution -\n",
    "           \n",
    "    There are 3 types of Boolean Operators\n",
    "        1)AND\n",
    "        2)OR\n",
    "        3)NOT"
   ]
  },
  {
   "cell_type": "markdown",
   "metadata": {},
   "source": [
    "# 3. Make a list of each Boolean operator's truth tables (i.e. every possible combination of Boolean values for the operator and what it evaluate )."
   ]
  },
  {
   "cell_type": "markdown",
   "metadata": {},
   "source": [
    "# Solution -\n",
    "            1) AND  OPerator truth tabel\n",
    "             \n",
    "                     INPUT        OUTPUT \n",
    "                  T   AND   T  =   T \n",
    "                  T   AND   F  =   F\n",
    "                  F   AND   T  =   F\n",
    "                  F   AND   F  =   F\n",
    "                  \n",
    "             2) OR Operator Truth Table\n",
    "             \n",
    "                     INPUT       OUTPUT\n",
    "                  T  OR   T   =   T\n",
    "                  T  OR   F   =   T\n",
    "                  F  OR   T   =   T\n",
    "                  F  OR   F   =   F\n",
    "                  \n",
    "             3) NOT Operator Truth Table\n",
    "             \n",
    "                     INPUT       OUTPUT\n",
    "                     NOT T   =   F\n",
    "                     NOT F   =   T"
   ]
  },
  {
   "cell_type": "markdown",
   "metadata": {},
   "source": [
    "# 4. What are the values of the following expressions?\n",
    "\n",
    "(5 > 4) and (3 == 5)\n",
    "not (5 > 4)\n",
    "(5 > 4) or (3 == 5)\n",
    "not ((5 > 4) or (3 == 5))\n",
    "(True and True) and (True == False)\n",
    "(not False) or (not True)\n"
   ]
  },
  {
   "cell_type": "markdown",
   "metadata": {},
   "source": [
    "# solution -\n",
    "      1)  (5 > 4) and (3 == 5) = FALSE (0)\n",
    "      2)   not (5 > 4)  =  FALSE (0)\n",
    "      3)  (5 > 4) or (3 == 5)  = TRUE (1)\n",
    "      4)  not ((5 > 4) or (3 == 5))  =  FALSE (0)\n",
    "      5)  (True and True) and (True == False) = FALSE(0)\n",
    "      6)  (not False) or (not True) = TRUE (1)"
   ]
  },
  {
   "cell_type": "markdown",
   "metadata": {},
   "source": [
    "# 5. What are the six different types of reference operators?"
   ]
  },
  {
   "cell_type": "markdown",
   "metadata": {},
   "source": [
    "# Solution - \n",
    "     Arithmetic operators\n",
    "    Assignment operators\n",
    "    Comparison operators\n",
    "    Logical operators\n",
    "    Identity operators\n",
    "    Bitwise operators\n"
   ]
  },
  {
   "cell_type": "markdown",
   "metadata": {},
   "source": [
    "# 6. How do you tell the difference between the equal to and assignment operators?"
   ]
  },
  {
   "cell_type": "markdown",
   "metadata": {},
   "source": [
    "               =\t                                        ==\n",
    "      It is an assignment operator.\t                        It is a relational or comparison operator.\n",
    "      It is used for assigning the value to a variable.   \tIt is used for comparing two values. It returns 1 if both the values                                                             are equal otherwise returns 0."
   ]
  },
  {
   "cell_type": "markdown",
   "metadata": {},
   "source": [
    "# 7. Describe a condition and when you would use one."
   ]
  },
  {
   "cell_type": "markdown",
   "metadata": {},
   "source": [
    "# Solution - \n",
    "        Suppose we use Assignment Operator (=) then EX:-  VAR = 10;\n",
    "        In this case we assigning the value 10 to variable VAR.\n",
    "        \n",
    "          and if we use equal to operator (==) then  EX:-   x = 3\n",
    "                                                            y = 4\n",
    "                                                                  x==y\n",
    "                     In this case the content of x is eiather eual to y or not "
   ]
  },
  {
   "cell_type": "markdown",
   "metadata": {},
   "source": [
    "# 8. Recognize the following three blocks in this code:"
   ]
  },
  {
   "cell_type": "code",
   "execution_count": 2,
   "metadata": {},
   "outputs": [
    {
     "name": "stdout",
     "output_type": "stream",
     "text": [
      "spam\n"
     ]
    }
   ],
   "source": [
    "spam = 0\n",
    "if spam == 10:\n",
    "    print('eggs')\n",
    "    if spam > 5:\n",
    "        print('bacon')\n",
    "    else:\n",
    "        print('ham')\n",
    "    print('spam')\n",
    "print('spam')\n"
   ]
  },
  {
   "cell_type": "markdown",
   "metadata": {},
   "source": [
    "# 9. Create a programme that prints. If 1 is stored in spam, prints Hello; if 2 is stored in spam, prints Howdy; and if 3 is stored in spam, prints Salutations! if there's something else in spam."
   ]
  },
  {
   "cell_type": "code",
   "execution_count": 3,
   "metadata": {},
   "outputs": [
    {
     "name": "stdout",
     "output_type": "stream",
     "text": [
      "ENTER THE NUMBER 1/2/3 :  1\n",
      "Hello\n"
     ]
    }
   ],
   "source": [
    "spam = int(input(\"ENTER THE NUMBER 1/2/3 :  \"))\n",
    "if spam==1:\n",
    "    print(\"Hello\")\n",
    "elif spam==2:\n",
    "    print(\"HOWDY\")\n",
    "elif spam==3:\n",
    "    print(\"SALUTATIONS!\")\n",
    "else:\n",
    "    print(\" SOMETHING OTHER VALUES WHICH IS NOT SPECIFIED ! \")"
   ]
  },
  {
   "cell_type": "markdown",
   "metadata": {},
   "source": [
    "# 10.If your programme is stuck in an endless loop, what keys can you press?"
   ]
  },
  {
   "cell_type": "markdown",
   "metadata": {},
   "source": [
    "# Solution -    Ctrl + C"
   ]
  },
  {
   "cell_type": "markdown",
   "metadata": {},
   "source": [
    "# 11. How can you tell the difference between break and continue?"
   ]
  },
  {
   "cell_type": "markdown",
   "metadata": {},
   "source": [
    " # Solution -\n",
    " # Break statement\n",
    "It terminates the execution of the remaining iteration of the loop.\t\n",
    "break resumes the control of the program to the end of loop enclosing that 'break'.\n",
    "It causes early termination of a loop.\n",
    "break stops the continuation of the loop.\n",
    "the break can be used with switch, label.\n",
    "\n",
    "# Continue statement\n",
    "It terminates only the current iteration of the loop.\n",
    "continue resumes the control of the program to the next iteration of that loop enclosing continue.\n",
    "It causes early execution of the next iteration.\n",
    "continuation of loop. continue do not stop the continuation of the loop, it only stops the current iteration.\n",
    "continue can not be executed with switch and labels."
   ]
  },
  {
   "cell_type": "markdown",
   "metadata": {},
   "source": [
    "# 12. In a for loop, what is the difference between range(10), range(0, 10), and range(0, 10, 1)?"
   ]
  },
  {
   "cell_type": "markdown",
   "metadata": {},
   "source": [
    "# Solution -\n",
    "      range(10)- In this case loop will goes to end point 10 , and it will recall itself 10 times if we gives                                    start point as 0; and if we give start point as any value the it calls itself accordingly.\n",
    "      range(0,10) - In this case loop goes from 0 to 10.\n",
    "      range (0,10,1) - In this case start point 0 ; end point 10; and scaling factor 1. this case also loop runs 10 times"
   ]
  },
  {
   "cell_type": "markdown",
   "metadata": {},
   "source": [
    "# 13. Using a for loop, write a short programme that prints the numbers 1 to 10 Then, using a while loop, create an identical programme that prints the numbers 1 to 10.\n",
    "\n"
   ]
  },
  {
   "cell_type": "code",
   "execution_count": 19,
   "metadata": {},
   "outputs": [
    {
     "name": "stdout",
     "output_type": "stream",
     "text": [
      "ENTER 1 for FOR LOOP & 2 for WHILE LOOP  : 2\n",
      "1\n",
      "2\n",
      "3\n",
      "4\n",
      "5\n",
      "6\n",
      "7\n",
      "8\n",
      "9\n",
      "10\n"
     ]
    }
   ],
   "source": [
    "x=int(input(\"ENTER 1 for FOR LOOP & 2 for WHILE LOOP  : \"))\n",
    "if x == 1:\n",
    "    for i in range(1,11):\n",
    "        print(i)\n",
    "elif x == 2:\n",
    "        i=1\n",
    "        while(i<11):\n",
    "            print(i)\n",
    "            i+=1"
   ]
  },
  {
   "cell_type": "markdown",
   "metadata": {},
   "source": [
    "# 14. If you had a bacon() function within a spam module, how  would you call it after importing spam?"
   ]
  },
  {
   "cell_type": "markdown",
   "metadata": {},
   "source": [
    "# solution -\n",
    "    If you had a function named bacon() inside a module named spam, how would you call it after importing spam ? This function can be called with spam. bacon()."
   ]
  },
  {
   "cell_type": "code",
   "execution_count": null,
   "metadata": {},
   "outputs": [],
   "source": []
  }
 ],
 "metadata": {
  "kernelspec": {
   "display_name": "Python 3",
   "language": "python",
   "name": "python3"
  },
  "language_info": {
   "codemirror_mode": {
    "name": "ipython",
    "version": 3
   },
   "file_extension": ".py",
   "mimetype": "text/x-python",
   "name": "python",
   "nbconvert_exporter": "python",
   "pygments_lexer": "ipython3",
   "version": "3.8.5"
  }
 },
 "nbformat": 4,
 "nbformat_minor": 4
}
